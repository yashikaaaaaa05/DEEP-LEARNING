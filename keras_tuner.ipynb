{
  "nbformat": 4,
  "nbformat_minor": 0,
  "metadata": {
    "accelerator": "GPU",
    "colab": {
      "provenance": []
    },
    "kernelspec": {
      "display_name": "Python 3",
      "language": "python",
      "name": "python3"
    },
    "language_info": {
      "codemirror_mode": {
        "name": "ipython",
        "version": 3
      },
      "file_extension": ".py",
      "mimetype": "text/x-python",
      "name": "python",
      "nbconvert_exporter": "python",
      "pygments_lexer": "ipython3",
      "version": "3.7.6"
    }
  },
  "cells": [
    {
      "cell_type": "markdown",
      "metadata": {
        "id": "xHxb-dlhMIzW"
      },
      "source": [
        "## Overview\n",
        "\n",
        "The Keras Tuner is a library that helps you pick the optimal set of hyperparameters for your TensorFlow program. The process of selecting the right set of hyperparameters for your machine learning (ML) application is called *hyperparameter tuning* or *hypertuning*.\n",
        "\n",
        "Hyperparameters are the variables that govern the training process and the topology of an ML model. These variables remain constant over the training process and directly impact the performance of your ML program. Hyperparameters are of two types:\n",
        "1. **Model hyperparameters** which influence model selection such as the number and width of hidden layers\n",
        "2. **Algorithm hyperparameters** which influence the speed and quality of the learning algorithm such as the learning rate for Stochastic Gradient Descent (SGD) and the number of nearest neighbors for a k Nearest Neighbors (KNN) classifier\n",
        "\n",
        "In this tutorial, you will use the Keras Tuner to perform hypertuning for an image classification application."
      ]
    },
    {
      "cell_type": "markdown",
      "metadata": {
        "id": "MUXex9ctTuDB"
      },
      "source": [
        "## Setup"
      ]
    },
    {
      "cell_type": "code",
      "metadata": {
        "id": "IqR2PQG4ZaZ0"
      },
      "source": [
        "import tensorflow as tf\n",
        "from tensorflow import keras"
      ],
      "execution_count": null,
      "outputs": []
    },
    {
      "cell_type": "markdown",
      "metadata": {
        "id": "g83Lwsy-Aq2_"
      },
      "source": [
        "Install and import the Keras Tuner."
      ]
    },
    {
      "cell_type": "code",
      "metadata": {
        "id": "hpMLpbt9jcO6"
      },
      "source": [
        "!pip install -q -U keras-tuner"
      ],
      "execution_count": null,
      "outputs": []
    },
    {
      "cell_type": "code",
      "metadata": {
        "id": "_leAIdFKAxAD"
      },
      "source": [
        "import keras_tuner as kt"
      ],
      "execution_count": null,
      "outputs": []
    },
    {
      "cell_type": "markdown",
      "metadata": {
        "id": "ReV_UXOgCZvx"
      },
      "source": [
        "## Download and prepare the dataset\n",
        "\n",
        "In this tutorial, you will use the Keras Tuner to find the best hyperparameters for a machine learning model that classifies images of clothing from the [Fashion MNIST dataset](https://github.com/zalandoresearch/fashion-mnist)."
      ]
    },
    {
      "cell_type": "markdown",
      "metadata": {
        "id": "HljH_ENLEdHa"
      },
      "source": [
        "Load the data."
      ]
    },
    {
      "cell_type": "markdown",
      "source": [
        "fashion mnist consists of 70000 images, 60000 images are in train and the remaining 10000 images are in test.\n",
        "\n",
        "size is 28 x 28 px"
      ],
      "metadata": {
        "id": "jSCxtbjxF5lZ"
      }
    },
    {
      "cell_type": "code",
      "metadata": {
        "execution": {
          "iopub.execute_input": "2021-06-26T01:24:58.858244Z",
          "iopub.status.busy": "2021-06-26T01:24:58.857600Z",
          "iopub.status.idle": "2021-06-26T01:24:59.759290Z",
          "shell.execute_reply": "2021-06-26T01:24:59.759790Z"
        },
        "id": "OHlHs9Wj_PUM"
      },
      "source": [
        "#import fashion mnist data into 4 arrays\n",
        "(img_train, label_train), (img_test, label_test) = keras.datasets.fashion_mnist.load_data()"
      ],
      "execution_count": null,
      "outputs": []
    },
    {
      "cell_type": "markdown",
      "source": [
        "All images are loaded in the form of array of pixel values in range of 0 to 255."
      ],
      "metadata": {
        "id": "SqviGV92GhOZ"
      }
    },
    {
      "cell_type": "code",
      "metadata": {
        "execution": {
          "iopub.execute_input": "2021-06-26T01:24:59.764044Z",
          "iopub.status.busy": "2021-06-26T01:24:59.763406Z",
          "iopub.status.idle": "2021-06-26T01:24:59.843746Z",
          "shell.execute_reply": "2021-06-26T01:24:59.843180Z"
        },
        "id": "bLVhXs3xrUD0"
      },
      "source": [
        "# Normalize pixel values between 0 and 1\n",
        "img_train = img_train.astype('float32') / 255.0\n",
        "img_test = img_test.astype('float32') / 255.0"
      ],
      "execution_count": null,
      "outputs": []
    },
    {
      "cell_type": "markdown",
      "metadata": {
        "id": "K5YEL2H2Ax3e"
      },
      "source": [
        "## Define the model\n",
        "\n",
        "When you build a model for hypertuning, you also define the hyperparameter search space in addition to the model architecture. The model you set up for hypertuning is called a *hypermodel*.\n",
        "\n",
        "You can define a hypermodel through two approaches:\n",
        "\n",
        "* By using a model builder function (customised)\n",
        "* By subclassing the `HyperModel` class of the Keras Tuner API\n",
        "\n",
        "You can also use two pre-defined `HyperModel` classes - [HyperXception](https://keras-team.github.io/keras-tuner/documentation/hypermodels/#hyperxception-class) and [HyperResNet](https://keras-team.github.io/keras-tuner/documentation/hypermodels/#hyperresnet-class) for computer vision applications.\n",
        "\n",
        "In this tutorial, you use a model builder function to define the image classification model. The model builder function returns a compiled model and uses hyperparameters you define inline to hypertune the model."
      ]
    },
    {
      "cell_type": "code",
      "metadata": {
        "execution": {
          "iopub.execute_input": "2021-06-26T01:24:59.850266Z",
          "iopub.status.busy": "2021-06-26T01:24:59.849584Z",
          "iopub.status.idle": "2021-06-26T01:24:59.851797Z",
          "shell.execute_reply": "2021-06-26T01:24:59.851340Z"
        },
        "id": "ZQKodC-jtsva"
      },
      "source": [
        "from keras import layers\n",
        "from keras.layers import BatchNormalization\n",
        "from keras import regularizers\n",
        "\n",
        "def model_builder(hp):#declare our ANN architecture: input, hidden and output layer\n",
        "  model = keras.Sequential()#instantiating the sequential method\n",
        "  #adding input layer\n",
        "  model.add(keras.layers.Flatten(input_shape=(28, 28)))\n",
        "\n",
        "  # Tune the number of units in the first Dense layer\n",
        "  # Choose an optimal value between 32-512\n",
        "  hp_units = hp.Int('units', min_value=32, max_value=512)\n",
        "  model.add(keras.layers.Dense(units=hp_units, activation='relu',kernel_regularizer=regularizers.l2(0.01)))\n",
        "  model.add(BatchNormalization())\n",
        "  model.add(layers.Dropout(0.5))\n",
        "\n",
        "  model.add(keras.layers.Dense(10)) #output layer\n",
        "\n",
        "  # Tune the learning rate for the optimizer\n",
        "  # Choose an optimal value from 0.01, 0.001, or 0.0001\n",
        "  hp_learning_rate = hp.Choice('learning_rate', values=[1e-2, 1e-3, 1e-4])\n",
        "\n",
        "  model.compile(optimizer=keras.optimizers.Adam(learning_rate=hp_learning_rate),\n",
        "                loss=keras.losses.SparseCategoricalCrossentropy(from_logits=True),\n",
        "                metrics=['accuracy'])\n",
        "\n",
        "  return model"
      ],
      "execution_count": null,
      "outputs": []
    },
    {
      "cell_type": "code",
      "source": [
        "from keras import layers\n",
        "from keras.layers import BatchNormalization\n",
        "from keras import regularizers\n",
        "\n",
        "def model_builder(hp):#declare our ANN architecture: input, hidden and output layer\n",
        "  model = keras.Sequential()#instantiating the sequential method\n",
        "  #adding input layer\n",
        "  model.add(keras.layers.Flatten(input_shape=(28, 28)))\n",
        "\n",
        "  # Tune the number of units in the first Dense layer\n",
        "  # Choose an optimal value between 32-512\n",
        "  hp_units = hp.Int('units', min_value=32, max_value=512)\n",
        "  model.add(keras.layers.Dense(units=hp_units, activation='relu',kernel_regularizer=regularizers.l2(0.01)))\n",
        "\n",
        "  model.add(keras.layers.Dense(10)) #output layer\n",
        "\n",
        "  # Tune the learning rate for the optimizer\n",
        "  # Choose an optimal value from 0.01, 0.001, or 0.0001\n",
        "  hp_learning_rate = hp.Choice('learning_rate', values=[1e-2, 1e-3, 1e-4])\n",
        "\n",
        "  model.compile(optimizer=keras.optimizers.Adam(learning_rate=hp_learning_rate),\n",
        "                loss=keras.losses.SparseCategoricalCrossentropy(from_logits=True),\n",
        "                metrics=['accuracy'])\n",
        "\n",
        "  return model"
      ],
      "metadata": {
        "id": "6TTmGw6vESrx"
      },
      "execution_count": null,
      "outputs": []
    },
    {
      "cell_type": "code",
      "source": [
        "from keras_tuner import HyperModel\n",
        "class ANNHyperModel(HyperModel):\n",
        "  def build(self, hp):\n",
        "    model = keras.Sequential()\n",
        "    model.add(keras.layers.Flatten(input_shape=(28, 28)))\n",
        "    # Tune the number of units in the first Dense layer\n",
        "    # Choose an optimal value between 32-512\n",
        "    hp_units = hp.Int('units', min_value=32, max_value=512)\n",
        "    model.add(keras.layers.Dense(units=hp_units, activation='relu'))\n",
        "\n",
        "    model.add(keras.layers.Dense(10)) #output layer\n",
        "\n",
        "    # Tune the learning rate for the optimizer\n",
        "    # Choose an optimal value from 0.01, 0.001, or 0.0001\n",
        "    hp_learning_rate = hp.Choice('learning_rate', values=[1e-2, 1e-3, 1e-4])\n",
        "\n",
        "    model.compile(optimizer=keras.optimizers.Adam(learning_rate=hp_learning_rate),\n",
        "                loss=keras.losses.SparseCategoricalCrossentropy(from_logits=True),\n",
        "                metrics=['accuracy'])\n",
        "\n",
        "    return model\n",
        "\n",
        "hypermodel = ANNHyperModel()\n",
        "\n"
      ],
      "metadata": {
        "id": "8jfxFfuBW2PG"
      },
      "execution_count": null,
      "outputs": []
    },
    {
      "cell_type": "markdown",
      "metadata": {
        "id": "0J1VYw4q3x0b"
      },
      "source": [
        "## Instantiate the tuner and perform hypertuning\n",
        "\n",
        "Instantiate the tuner to perform the hypertuning. The Keras Tuner has four tuners available - `RandomSearch`, `Hyperband`, `BayesianOptimization`, and `Sklearn`. In this tutorial, you use the [Hyperband](https://arxiv.org/pdf/1603.06560.pdf) tuner.\n",
        "\n",
        "To instantiate the Hyperband tuner, you must specify the hypermodel, the `objective` to optimize and the maximum number of epochs to train (`max_epochs`) one model\n",
        "\n",
        "hypermodel is a model builder function we defined previously;\n",
        "\n",
        "project_name is a path to the folder where all tuning-related results will be placed and stored."
      ]
    },
    {
      "cell_type": "code",
      "metadata": {
        "execution": {
          "iopub.execute_input": "2021-06-26T01:24:59.856125Z",
          "iopub.status.busy": "2021-06-26T01:24:59.855483Z",
          "iopub.status.idle": "2021-06-26T01:25:01.549456Z",
          "shell.execute_reply": "2021-06-26T01:25:01.549889Z"
        },
        "id": "oichQFly6Y46"
      },
      "source": [
        "tuner = kt.Hyperband(model_builder,\n",
        "                     objective='val_accuracy',\n",
        "                     max_epochs=10,\n",
        "                     factor=3,\n",
        "                     directory='my_dir',\n",
        "                     project_name='intro_to_kt')"
      ],
      "execution_count": null,
      "outputs": []
    },
    {
      "cell_type": "code",
      "source": [
        "tuner = kt.Hyperband(hypermodel,\n",
        "                     objective='val_accuracy',\n",
        "                     max_epochs=10,\n",
        "                     factor=3,\n",
        "                     directory='my_dir',\n",
        "                     project_name='intro_to_kt')"
      ],
      "metadata": {
        "id": "dzz8NYNeYDdO"
      },
      "execution_count": null,
      "outputs": []
    },
    {
      "cell_type": "markdown",
      "metadata": {
        "id": "VaIhhdKf9VtI"
      },
      "source": [
        "The Hyperband tuning algorithm uses adaptive resource allocation and early-stopping to quickly converge on a high-performing model."
      ]
    },
    {
      "cell_type": "markdown",
      "metadata": {
        "id": "cwhBdXx0Ekj8"
      },
      "source": [
        "Create a callback to stop training early after reaching a certain value for the validation loss."
      ]
    },
    {
      "cell_type": "code",
      "metadata": {
        "execution": {
          "iopub.execute_input": "2021-06-26T01:25:01.554385Z",
          "iopub.status.busy": "2021-06-26T01:25:01.553764Z",
          "iopub.status.idle": "2021-06-26T01:25:01.555354Z",
          "shell.execute_reply": "2021-06-26T01:25:01.555733Z"
        },
        "id": "WT9IkS9NEjLc"
      },
      "source": [
        "stop_early = tf.keras.callbacks.EarlyStopping(monitor='val_loss', patience=5)"
      ],
      "execution_count": null,
      "outputs": []
    },
    {
      "cell_type": "markdown",
      "metadata": {
        "id": "UKghEo15Tduy"
      },
      "source": [
        "Run the hyperparameter search. The arguments for the search method are the same as those used for `tf.keras.model.fit` in addition to the callback above."
      ]
    },
    {
      "cell_type": "code",
      "metadata": {
        "execution": {
          "iopub.execute_input": "2021-06-26T01:25:01.560706Z",
          "iopub.status.busy": "2021-06-26T01:25:01.560104Z",
          "iopub.status.idle": "2021-06-26T01:30:37.256655Z",
          "shell.execute_reply": "2021-06-26T01:30:37.257079Z"
        },
        "id": "dSBQcTHF9cKt"
      },
      "source": [
        "tuner.search(img_train, label_train, epochs=50, validation_split=0.2, callbacks=[stop_early])"
      ],
      "execution_count": null,
      "outputs": []
    },
    {
      "cell_type": "code",
      "source": [
        "# Get the optimal hyperparameters\n",
        "best_hps=tuner.get_best_hyperparameters(num_trials=1)[0]\n",
        "#number of units in the hidden layer\n",
        "#learning rate\n",
        "\n",
        "print(f\"\"\"\n",
        "The hyperparameter search is complete. The optimal number of units in the first densely-connected\n",
        "layer is {best_hps.get('units')} and the optimal learning rate for the optimizer\n",
        "is {best_hps.get('learning_rate')}.\n",
        "\"\"\")\n",
        "\n",
        "#num_trials: Optional number of HyperParameters objects to return.\n",
        "\n",
        "#Returns\n",
        "#List of HyperParameter objects sorted from the best to the worst."
      ],
      "metadata": {
        "colab": {
          "base_uri": "https://localhost:8080/"
        },
        "id": "zz-jQxAkY3B0",
        "outputId": "bec13a4c-a969-4ffc-d0ff-ab088428f32a"
      },
      "execution_count": null,
      "outputs": [
        {
          "output_type": "stream",
          "name": "stdout",
          "text": [
            "\n",
            "The hyperparameter search is complete. The optimal number of units in the first densely-connected\n",
            "layer is 349 and the optimal learning rate for the optimizer\n",
            "is 0.0001.\n",
            "\n"
          ]
        }
      ]
    },
    {
      "cell_type": "markdown",
      "metadata": {
        "id": "Lak_ylf88xBv"
      },
      "source": [
        "## Train the model\n",
        "\n",
        "Find the optimal number of epochs to train the model with the hyperparameters obtained from the search."
      ]
    },
    {
      "cell_type": "code",
      "metadata": {
        "execution": {
          "iopub.execute_input": "2021-06-26T01:30:37.349333Z",
          "iopub.status.busy": "2021-06-26T01:30:37.261935Z",
          "iopub.status.idle": "2021-06-26T01:32:41.599453Z",
          "shell.execute_reply": "2021-06-26T01:32:41.599038Z"
        },
        "id": "McO82AXOuxXh",
        "colab": {
          "base_uri": "https://localhost:8080/"
        },
        "outputId": "151adb6e-64e8-4d66-ff4d-7e0b4820326d"
      },
      "source": [
        "# Build the model with the optimal hyperparameters and train it on the data for 50 epochs\n",
        "model = tuner.hypermodel.build(best_hps)\n",
        "newmodel = model.fit(img_train, label_train, epochs=50, validation_split=0.2)\n",
        "\n",
        "val_acc_per_epoch = newmodel.history['val_accuracy']\n",
        "best_epoch = val_acc_per_epoch.index(max(val_acc_per_epoch)) + 1\n",
        "print('Best epoch: %d' % (best_epoch,))"
      ],
      "execution_count": null,
      "outputs": [
        {
          "output_type": "stream",
          "name": "stdout",
          "text": [
            "Epoch 1/50\n",
            "1500/1500 [==============================] - 10s 6ms/step - loss: 4.1733 - accuracy: 0.7496 - val_loss: 2.9080 - val_accuracy: 0.8384\n",
            "Epoch 2/50\n",
            "1500/1500 [==============================] - 5s 3ms/step - loss: 2.3916 - accuracy: 0.8152 - val_loss: 1.8106 - val_accuracy: 0.8523\n",
            "Epoch 3/50\n",
            "1500/1500 [==============================] - 6s 4ms/step - loss: 1.5641 - accuracy: 0.8319 - val_loss: 1.2377 - val_accuracy: 0.8577\n",
            "Epoch 4/50\n",
            "1500/1500 [==============================] - 5s 3ms/step - loss: 1.1252 - accuracy: 0.8376 - val_loss: 0.9247 - val_accuracy: 0.8589\n",
            "Epoch 5/50\n",
            "1500/1500 [==============================] - 6s 4ms/step - loss: 0.8806 - accuracy: 0.8445 - val_loss: 0.7618 - val_accuracy: 0.8575\n",
            "Epoch 6/50\n",
            "1500/1500 [==============================] - 5s 4ms/step - loss: 0.7388 - accuracy: 0.8487 - val_loss: 0.6314 - val_accuracy: 0.8673\n",
            "Epoch 7/50\n",
            "1500/1500 [==============================] - 5s 3ms/step - loss: 0.6499 - accuracy: 0.8494 - val_loss: 0.6165 - val_accuracy: 0.8466\n",
            "Epoch 8/50\n",
            "1500/1500 [==============================] - 7s 5ms/step - loss: 0.5982 - accuracy: 0.8500 - val_loss: 0.5411 - val_accuracy: 0.8622\n",
            "Epoch 9/50\n",
            "1500/1500 [==============================] - 5s 3ms/step - loss: 0.5621 - accuracy: 0.8523 - val_loss: 0.5106 - val_accuracy: 0.8693\n",
            "Epoch 10/50\n",
            "1500/1500 [==============================] - 6s 4ms/step - loss: 0.5335 - accuracy: 0.8531 - val_loss: 0.4858 - val_accuracy: 0.8668\n",
            "Epoch 11/50\n",
            "1500/1500 [==============================] - 5s 3ms/step - loss: 0.5112 - accuracy: 0.8547 - val_loss: 0.4628 - val_accuracy: 0.8720\n",
            "Epoch 12/50\n",
            "1500/1500 [==============================] - 6s 4ms/step - loss: 0.4984 - accuracy: 0.8573 - val_loss: 0.4599 - val_accuracy: 0.8694\n",
            "Epoch 13/50\n",
            "1500/1500 [==============================] - 5s 4ms/step - loss: 0.4905 - accuracy: 0.8568 - val_loss: 0.4661 - val_accuracy: 0.8637\n",
            "Epoch 14/50\n",
            "1500/1500 [==============================] - 6s 4ms/step - loss: 0.4778 - accuracy: 0.8587 - val_loss: 0.4449 - val_accuracy: 0.8704\n",
            "Epoch 15/50\n",
            "1500/1500 [==============================] - 5s 3ms/step - loss: 0.4731 - accuracy: 0.8609 - val_loss: 0.4659 - val_accuracy: 0.8613\n",
            "Epoch 16/50\n",
            "1500/1500 [==============================] - 5s 3ms/step - loss: 0.4702 - accuracy: 0.8578 - val_loss: 0.4687 - val_accuracy: 0.8493\n",
            "Epoch 17/50\n",
            "1500/1500 [==============================] - 6s 4ms/step - loss: 0.4681 - accuracy: 0.8588 - val_loss: 0.4350 - val_accuracy: 0.8695\n",
            "Epoch 18/50\n",
            "1500/1500 [==============================] - 5s 3ms/step - loss: 0.4599 - accuracy: 0.8591 - val_loss: 0.4550 - val_accuracy: 0.8634\n",
            "Epoch 19/50\n",
            "1500/1500 [==============================] - 6s 4ms/step - loss: 0.4607 - accuracy: 0.8598 - val_loss: 0.4415 - val_accuracy: 0.8609\n",
            "Epoch 20/50\n",
            "1500/1500 [==============================] - 5s 3ms/step - loss: 0.4605 - accuracy: 0.8585 - val_loss: 0.4468 - val_accuracy: 0.8643\n",
            "Epoch 21/50\n",
            "1500/1500 [==============================] - 6s 4ms/step - loss: 0.4571 - accuracy: 0.8602 - val_loss: 0.4270 - val_accuracy: 0.8722\n",
            "Epoch 22/50\n",
            "1500/1500 [==============================] - 6s 4ms/step - loss: 0.4558 - accuracy: 0.8606 - val_loss: 0.4525 - val_accuracy: 0.8611\n",
            "Epoch 23/50\n",
            "1500/1500 [==============================] - 6s 4ms/step - loss: 0.4560 - accuracy: 0.8612 - val_loss: 0.4195 - val_accuracy: 0.8754\n",
            "Epoch 24/50\n",
            "1500/1500 [==============================] - 5s 3ms/step - loss: 0.4538 - accuracy: 0.8592 - val_loss: 0.4198 - val_accuracy: 0.8741\n",
            "Epoch 25/50\n",
            "1500/1500 [==============================] - 5s 3ms/step - loss: 0.4532 - accuracy: 0.8600 - val_loss: 0.4162 - val_accuracy: 0.8752\n",
            "Epoch 26/50\n",
            "1500/1500 [==============================] - 6s 4ms/step - loss: 0.4519 - accuracy: 0.8603 - val_loss: 0.4187 - val_accuracy: 0.8727\n",
            "Epoch 27/50\n",
            "1500/1500 [==============================] - 5s 3ms/step - loss: 0.4527 - accuracy: 0.8608 - val_loss: 0.4205 - val_accuracy: 0.8723\n",
            "Epoch 28/50\n",
            "1500/1500 [==============================] - 6s 4ms/step - loss: 0.4526 - accuracy: 0.8605 - val_loss: 0.4061 - val_accuracy: 0.8766\n",
            "Epoch 29/50\n",
            "1500/1500 [==============================] - 5s 3ms/step - loss: 0.4486 - accuracy: 0.8620 - val_loss: 0.4162 - val_accuracy: 0.8746\n",
            "Epoch 30/50\n",
            "1500/1500 [==============================] - 6s 4ms/step - loss: 0.4492 - accuracy: 0.8623 - val_loss: 0.4253 - val_accuracy: 0.8714\n",
            "Epoch 31/50\n",
            "1500/1500 [==============================] - 5s 3ms/step - loss: 0.4499 - accuracy: 0.8610 - val_loss: 0.4244 - val_accuracy: 0.8706\n",
            "Epoch 32/50\n",
            "1500/1500 [==============================] - 5s 3ms/step - loss: 0.4504 - accuracy: 0.8602 - val_loss: 0.4091 - val_accuracy: 0.8731\n",
            "Epoch 33/50\n",
            "1500/1500 [==============================] - 6s 4ms/step - loss: 0.4518 - accuracy: 0.8613 - val_loss: 0.4231 - val_accuracy: 0.8723\n",
            "Epoch 34/50\n",
            "1500/1500 [==============================] - 5s 3ms/step - loss: 0.4501 - accuracy: 0.8612 - val_loss: 0.4379 - val_accuracy: 0.8612\n",
            "Epoch 35/50\n",
            "1500/1500 [==============================] - 6s 4ms/step - loss: 0.4504 - accuracy: 0.8604 - val_loss: 0.4303 - val_accuracy: 0.8661\n",
            "Epoch 36/50\n",
            "1500/1500 [==============================] - 5s 3ms/step - loss: 0.4517 - accuracy: 0.8609 - val_loss: 0.4272 - val_accuracy: 0.8680\n",
            "Epoch 37/50\n",
            "1500/1500 [==============================] - 6s 4ms/step - loss: 0.4475 - accuracy: 0.8611 - val_loss: 0.4288 - val_accuracy: 0.8706\n",
            "Epoch 38/50\n",
            "1500/1500 [==============================] - 5s 3ms/step - loss: 0.4502 - accuracy: 0.8603 - val_loss: 0.4278 - val_accuracy: 0.8705\n",
            "Epoch 39/50\n",
            "1500/1500 [==============================] - 6s 4ms/step - loss: 0.4507 - accuracy: 0.8608 - val_loss: 0.4271 - val_accuracy: 0.8708\n",
            "Epoch 40/50\n",
            "1500/1500 [==============================] - 5s 3ms/step - loss: 0.4496 - accuracy: 0.8626 - val_loss: 0.4107 - val_accuracy: 0.8756\n",
            "Epoch 41/50\n",
            "1500/1500 [==============================] - 5s 3ms/step - loss: 0.4441 - accuracy: 0.8643 - val_loss: 0.4056 - val_accuracy: 0.8758\n",
            "Epoch 42/50\n",
            "1500/1500 [==============================] - 6s 4ms/step - loss: 0.4449 - accuracy: 0.8625 - val_loss: 0.4224 - val_accuracy: 0.8737\n",
            "Epoch 43/50\n",
            "1500/1500 [==============================] - 5s 3ms/step - loss: 0.4414 - accuracy: 0.8625 - val_loss: 0.4336 - val_accuracy: 0.8696\n",
            "Epoch 44/50\n",
            "1500/1500 [==============================] - 6s 4ms/step - loss: 0.4411 - accuracy: 0.8639 - val_loss: 0.4239 - val_accuracy: 0.8665\n",
            "Epoch 45/50\n",
            "1500/1500 [==============================] - 5s 3ms/step - loss: 0.4456 - accuracy: 0.8626 - val_loss: 0.4202 - val_accuracy: 0.8698\n",
            "Epoch 46/50\n",
            "1500/1500 [==============================] - 6s 4ms/step - loss: 0.4423 - accuracy: 0.8627 - val_loss: 0.4411 - val_accuracy: 0.8670\n",
            "Epoch 47/50\n",
            "1500/1500 [==============================] - 5s 3ms/step - loss: 0.4432 - accuracy: 0.8620 - val_loss: 0.4358 - val_accuracy: 0.8612\n",
            "Epoch 48/50\n",
            "1500/1500 [==============================] - 5s 3ms/step - loss: 0.4411 - accuracy: 0.8635 - val_loss: 0.4058 - val_accuracy: 0.8758\n",
            "Epoch 49/50\n",
            "1500/1500 [==============================] - 6s 4ms/step - loss: 0.4427 - accuracy: 0.8628 - val_loss: 0.4102 - val_accuracy: 0.8731\n",
            "Epoch 50/50\n",
            "1500/1500 [==============================] - 5s 3ms/step - loss: 0.4436 - accuracy: 0.8618 - val_loss: 0.4612 - val_accuracy: 0.8593\n",
            "Best epoch: 28\n"
          ]
        }
      ]
    },
    {
      "cell_type": "markdown",
      "metadata": {
        "id": "uOTSirSTI3Gp"
      },
      "source": [
        "Re-instantiate the hypermodel and train it with the optimal number of epochs from above."
      ]
    },
    {
      "cell_type": "code",
      "metadata": {
        "execution": {
          "iopub.execute_input": "2021-06-26T01:32:41.604263Z",
          "iopub.status.busy": "2021-06-26T01:32:41.603065Z",
          "iopub.status.idle": "2021-06-26T01:34:35.585859Z",
          "shell.execute_reply": "2021-06-26T01:34:35.585450Z"
        },
        "id": "NoiPUEHmMhCe",
        "colab": {
          "base_uri": "https://localhost:8080/"
        },
        "outputId": "7d269a0a-25cf-423f-e85e-9c5f52e42a7f"
      },
      "source": [
        "hypermodel = tuner.hypermodel.build(best_hps)\n",
        "\n",
        "# Retrain the model\n",
        "hypermodel.fit(img_train, label_train, epochs=best_epoch, validation_split=0.2)"
      ],
      "execution_count": null,
      "outputs": [
        {
          "output_type": "stream",
          "name": "stdout",
          "text": [
            "Epoch 1/28\n",
            "1500/1500 [==============================] - 6s 3ms/step - loss: 4.0914 - accuracy: 0.7472 - val_loss: 2.8226 - val_accuracy: 0.8387\n",
            "Epoch 2/28\n",
            "1500/1500 [==============================] - 6s 4ms/step - loss: 2.3137 - accuracy: 0.8189 - val_loss: 1.7461 - val_accuracy: 0.8559\n",
            "Epoch 3/28\n",
            "1500/1500 [==============================] - 5s 3ms/step - loss: 1.5355 - accuracy: 0.8309 - val_loss: 1.2241 - val_accuracy: 0.8540\n",
            "Epoch 4/28\n",
            "1500/1500 [==============================] - 6s 4ms/step - loss: 1.1132 - accuracy: 0.8390 - val_loss: 0.9510 - val_accuracy: 0.8490\n",
            "Epoch 5/28\n",
            "1500/1500 [==============================] - 5s 3ms/step - loss: 0.8797 - accuracy: 0.8440 - val_loss: 0.7483 - val_accuracy: 0.8624\n",
            "Epoch 6/28\n",
            "1500/1500 [==============================] - 6s 4ms/step - loss: 0.7422 - accuracy: 0.8464 - val_loss: 0.6704 - val_accuracy: 0.8543\n",
            "Epoch 7/28\n",
            "1500/1500 [==============================] - 6s 4ms/step - loss: 0.6484 - accuracy: 0.8515 - val_loss: 0.5697 - val_accuracy: 0.8669\n",
            "Epoch 8/28\n",
            "1500/1500 [==============================] - 5s 3ms/step - loss: 0.5919 - accuracy: 0.8514 - val_loss: 0.5289 - val_accuracy: 0.8698\n",
            "Epoch 9/28\n",
            "1500/1500 [==============================] - 6s 4ms/step - loss: 0.5554 - accuracy: 0.8526 - val_loss: 0.5293 - val_accuracy: 0.8551\n",
            "Epoch 10/28\n",
            "1500/1500 [==============================] - 5s 3ms/step - loss: 0.5276 - accuracy: 0.8541 - val_loss: 0.4889 - val_accuracy: 0.8618\n",
            "Epoch 11/28\n",
            "1500/1500 [==============================] - 6s 4ms/step - loss: 0.5132 - accuracy: 0.8556 - val_loss: 0.4695 - val_accuracy: 0.8660\n",
            "Epoch 12/28\n",
            "1500/1500 [==============================] - 5s 3ms/step - loss: 0.4982 - accuracy: 0.8584 - val_loss: 0.5052 - val_accuracy: 0.8457\n",
            "Epoch 13/28\n",
            "1500/1500 [==============================] - 6s 4ms/step - loss: 0.4930 - accuracy: 0.8565 - val_loss: 0.4415 - val_accuracy: 0.8716\n",
            "Epoch 14/28\n",
            "1500/1500 [==============================] - 5s 3ms/step - loss: 0.4818 - accuracy: 0.8573 - val_loss: 0.4686 - val_accuracy: 0.8637\n",
            "Epoch 15/28\n",
            "1500/1500 [==============================] - 5s 3ms/step - loss: 0.4713 - accuracy: 0.8597 - val_loss: 0.4475 - val_accuracy: 0.8651\n",
            "Epoch 16/28\n",
            "1500/1500 [==============================] - 6s 4ms/step - loss: 0.4696 - accuracy: 0.8593 - val_loss: 0.4388 - val_accuracy: 0.8707\n",
            "Epoch 17/28\n",
            "1500/1500 [==============================] - 5s 3ms/step - loss: 0.4651 - accuracy: 0.8590 - val_loss: 0.4466 - val_accuracy: 0.8667\n",
            "Epoch 18/28\n",
            "1500/1500 [==============================] - 6s 4ms/step - loss: 0.4677 - accuracy: 0.8578 - val_loss: 0.4307 - val_accuracy: 0.8662\n",
            "Epoch 19/28\n",
            "1500/1500 [==============================] - 5s 3ms/step - loss: 0.4600 - accuracy: 0.8596 - val_loss: 0.4364 - val_accuracy: 0.8675\n",
            "Epoch 20/28\n",
            "1500/1500 [==============================] - 6s 4ms/step - loss: 0.4615 - accuracy: 0.8578 - val_loss: 0.4310 - val_accuracy: 0.8712\n",
            "Epoch 21/28\n",
            "1500/1500 [==============================] - 5s 3ms/step - loss: 0.4565 - accuracy: 0.8600 - val_loss: 0.4309 - val_accuracy: 0.8676\n",
            "Epoch 22/28\n",
            "1500/1500 [==============================] - 5s 3ms/step - loss: 0.4569 - accuracy: 0.8602 - val_loss: 0.4254 - val_accuracy: 0.8712\n",
            "Epoch 23/28\n",
            "1500/1500 [==============================] - 6s 4ms/step - loss: 0.4598 - accuracy: 0.8586 - val_loss: 0.4294 - val_accuracy: 0.8696\n",
            "Epoch 24/28\n",
            "1500/1500 [==============================] - 5s 3ms/step - loss: 0.4516 - accuracy: 0.8608 - val_loss: 0.4258 - val_accuracy: 0.8756\n",
            "Epoch 25/28\n",
            "1500/1500 [==============================] - 6s 4ms/step - loss: 0.4545 - accuracy: 0.8609 - val_loss: 0.4233 - val_accuracy: 0.8705\n",
            "Epoch 26/28\n",
            "1500/1500 [==============================] - 5s 3ms/step - loss: 0.4504 - accuracy: 0.8614 - val_loss: 0.4475 - val_accuracy: 0.8614\n",
            "Epoch 27/28\n",
            "1500/1500 [==============================] - 6s 4ms/step - loss: 0.4541 - accuracy: 0.8588 - val_loss: 0.4374 - val_accuracy: 0.8622\n",
            "Epoch 28/28\n",
            "1500/1500 [==============================] - 5s 3ms/step - loss: 0.4543 - accuracy: 0.8607 - val_loss: 0.4120 - val_accuracy: 0.8768\n"
          ]
        },
        {
          "output_type": "execute_result",
          "data": {
            "text/plain": [
              "<keras.callbacks.History at 0x7b912c636590>"
            ]
          },
          "metadata": {},
          "execution_count": 14
        }
      ]
    },
    {
      "cell_type": "markdown",
      "metadata": {
        "id": "MqU5ZVAaag2v"
      },
      "source": [
        "To finish this tutorial, evaluate the hypermodel on the test data."
      ]
    },
    {
      "cell_type": "code",
      "metadata": {
        "execution": {
          "iopub.execute_input": "2021-06-26T01:34:35.589791Z",
          "iopub.status.busy": "2021-06-26T01:34:35.589210Z",
          "iopub.status.idle": "2021-06-26T01:34:36.248936Z",
          "shell.execute_reply": "2021-06-26T01:34:36.249313Z"
        },
        "id": "9E0BTp9Ealjb",
        "colab": {
          "base_uri": "https://localhost:8080/"
        },
        "outputId": "6c435ca9-a032-45d3-83ef-4f79d04b215d"
      },
      "source": [
        "eval_result = hypermodel.evaluate(img_test, label_test)\n",
        "print(\"[test loss, test accuracy]:\", eval_result)"
      ],
      "execution_count": null,
      "outputs": [
        {
          "output_type": "stream",
          "name": "stdout",
          "text": [
            "313/313 [==============================] - 1s 3ms/step - loss: 0.4398 - accuracy: 0.8679\n",
            "[test loss, test accuracy]: [0.4397989809513092, 0.867900013923645]\n"
          ]
        }
      ]
    },
    {
      "cell_type": "markdown",
      "metadata": {
        "id": "EQRpPHZsz-eC"
      },
      "source": [
        "The `my_dir/intro_to_kt` directory contains detailed logs and checkpoints for every trial (model configuration) run during the hyperparameter search. If you re-run the hyperparameter search, the Keras Tuner uses the existing state from these logs to resume the search. To disable this behavior, pass an additional `overwrite=True` argument while instantiating the tuner."
      ]
    }
  ]
}